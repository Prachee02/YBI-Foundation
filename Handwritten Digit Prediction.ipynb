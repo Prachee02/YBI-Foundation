{
 "cells": [
  {
   "cell_type": "markdown",
   "id": "cfa2c43d",
   "metadata": {},
   "source": [
    "***Hand Written Digit Prediction - Classification Analysis***"
   ]
  },
  {
   "cell_type": "markdown",
   "id": "13c87583",
   "metadata": {},
   "source": [
    "The digit dataset consists of 8x8 pixel images of digits. The images attribute of the dataset stores 8x8 arrays of grayscale values for each image. We will use these arrays to visualize the first 4 images. The target attribute of the dataset stores the digit each image represents"
   ]
  },
  {
   "cell_type": "markdown",
   "id": "0f80c73f",
   "metadata": {},
   "source": [
    "**Import Library**"
   ]
  },
  {
   "cell_type": "code",
   "execution_count": 1,
   "id": "3a31ba25",
   "metadata": {},
   "outputs": [],
   "source": [
    "import pandas as pd"
   ]
  },
  {
   "cell_type": "code",
   "execution_count": 2,
   "id": "9ab6842b",
   "metadata": {},
   "outputs": [],
   "source": [
    "import numpy as np"
   ]
  },
  {
   "cell_type": "code",
   "execution_count": 3,
   "id": "9a83ce2e",
   "metadata": {},
   "outputs": [],
   "source": [
    "import matplotlib.pyplot as plt"
   ]
  },
  {
   "cell_type": "markdown",
   "id": "4bcd036c",
   "metadata": {},
   "source": [
    "**Import Data**"
   ]
  },
  {
   "cell_type": "code",
   "execution_count": 4,
   "id": "0eaa3917",
   "metadata": {},
   "outputs": [],
   "source": [
    "from sklearn.datasets import load_digits"
   ]
  },
  {
   "cell_type": "code",
   "execution_count": 5,
   "id": "40b9590e",
   "metadata": {},
   "outputs": [],
   "source": [
    "df = load_digits()"
   ]
  },
  {
   "cell_type": "code",
   "execution_count": 8,
   "id": "0437acd4",
   "metadata": {},
   "outputs": [
    {
     "data": {
      "image/png": "[encoded data removed]",
      "text/plain": [
       "<Figure size 1000x300 with 4 Axes>"
      ]
     },
     "metadata": {},
     "output_type": "display_data"
    }
   ],
   "source": [
    "_, axes = plt.subplots(nrows =1, ncols=4, figsize=(10,3))\n",
    "for ax, image, label in zip(axes, df.images, df.target):\n",
    "        ax.set_axis_off()\n",
    "        ax.imshow(image, cmap=plt.cm.gray_r, interpolation = \"nearest\")\n",
    "        ax.set_title(\"Training: %i\" %label)"
   ]
  },
  {
   "cell_type": "markdown",
   "id": "e70a7e7b",
   "metadata": {},
   "source": [
    "**Data Preprocessing**"
   ]
  },
  {
   "cell_type": "code",
   "execution_count": 9,
   "id": "f201f202",
   "metadata": {},
   "outputs": [
    {
     "data": {
      "text/plain": [
       "(1797, 8, 8)"
      ]
     },
     "execution_count": 9,
     "metadata": {},
     "output_type": "execute_result"
    }
   ],
   "source": [
    "df.images.shape"
   ]
  },
  {
   "cell_type": "code",
   "execution_count": 10,
   "id": "1790b1c0",
   "metadata": {},
   "outputs": [
    {
     "data": {
      "text/plain": [
       "array([[ 0.,  0.,  5., 13.,  9.,  1.,  0.,  0.],\n",
       "       [ 0.,  0., 13., 15., 10., 15.,  5.,  0.],\n",
       "       [ 0.,  3., 15.,  2.,  0., 11.,  8.,  0.],\n",
       "       [ 0.,  4., 12.,  0.,  0.,  8.,  8.,  0.],\n",
       "       [ 0.,  5.,  8.,  0.,  0.,  9.,  8.,  0.],\n",
       "       [ 0.,  4., 11.,  0.,  1., 12.,  7.,  0.],\n",
       "       [ 0.,  2., 14.,  5., 10., 12.,  0.,  0.],\n",
       "       [ 0.,  0.,  6., 13., 10.,  0.,  0.,  0.]])"
      ]
     },
     "execution_count": 10,
     "metadata": {},
     "output_type": "execute_result"
    }
   ],
   "source": [
    "df.images[0]"
   ]
  },
  {
   "cell_type": "code",
   "execution_count": 11,
   "id": "da4b945d",
   "metadata": {},
   "outputs": [
    {
     "data": {
      "text/plain": [
       "(8, 8)"
      ]
     },
     "execution_count": 11,
     "metadata": {},
     "output_type": "execute_result"
    }
   ],
   "source": [
    "df.images[0].shape"
   ]
  },
  {
   "cell_type": "code",
   "execution_count": 12,
   "id": "7eb9fa52",
   "metadata": {},
   "outputs": [
    {
     "data": {
      "text/plain": [
       "1797"
      ]
     },
     "execution_count": 12,
     "metadata": {},
     "output_type": "execute_result"
    }
   ],
   "source": [
    "len(df.images)"
   ]
  },
  {
   "cell_type": "code",
   "execution_count": 14,
   "id": "1aa45cfd",
   "metadata": {},
   "outputs": [],
   "source": [
    "n_samples = len(df.images)\n",
    "data = df.images.reshape((n_samples, -1))"
   ]
  },
  {
   "cell_type": "code",
   "execution_count": 15,
   "id": "0ac8ab07",
   "metadata": {},
   "outputs": [
    {
     "data": {
      "text/plain": [
       "array([ 0.,  0.,  5., 13.,  9.,  1.,  0.,  0.,  0.,  0., 13., 15., 10.,\n",
       "       15.,  5.,  0.,  0.,  3., 15.,  2.,  0., 11.,  8.,  0.,  0.,  4.,\n",
       "       12.,  0.,  0.,  8.,  8.,  0.,  0.,  5.,  8.,  0.,  0.,  9.,  8.,\n",
       "        0.,  0.,  4., 11.,  0.,  1., 12.,  7.,  0.,  0.,  2., 14.,  5.,\n",
       "       10., 12.,  0.,  0.,  0.,  0.,  6., 13., 10.,  0.,  0.,  0.])"
      ]
     },
     "execution_count": 15,
     "metadata": {},
     "output_type": "execute_result"
    }
   ],
   "source": [
    "data[0]"
   ]
  },
  {
   "cell_type": "code",
   "execution_count": 16,
   "id": "1ce22dd5",
   "metadata": {},
   "outputs": [
    {
     "data": {
      "text/plain": [
       "(64,)"
      ]
     },
     "execution_count": 16,
     "metadata": {},
     "output_type": "execute_result"
    }
   ],
   "source": [
    "data[0].shape"
   ]
  },
  {
   "cell_type": "code",
   "execution_count": 17,
   "id": "8f991b0d",
   "metadata": {},
   "outputs": [
    {
     "data": {
      "text/plain": [
       "(1797, 64)"
      ]
     },
     "execution_count": 17,
     "metadata": {},
     "output_type": "execute_result"
    }
   ],
   "source": [
    "data.shape"
   ]
  },
  {
   "cell_type": "markdown",
   "id": "f402efd0",
   "metadata": {},
   "source": [
    "**Scaling Image Data**"
   ]
  },
  {
   "cell_type": "code",
   "execution_count": 18,
   "id": "41abc738",
   "metadata": {},
   "outputs": [
    {
     "data": {
      "text/plain": [
       "0.0"
      ]
     },
     "execution_count": 18,
     "metadata": {},
     "output_type": "execute_result"
    }
   ],
   "source": [
    "data.min()"
   ]
  },
  {
   "cell_type": "code",
   "execution_count": 19,
   "id": "3c1ef241",
   "metadata": {},
   "outputs": [
    {
     "data": {
      "text/plain": [
       "16.0"
      ]
     },
     "execution_count": 19,
     "metadata": {},
     "output_type": "execute_result"
    }
   ],
   "source": [
    "data.max()"
   ]
  },
  {
   "cell_type": "code",
   "execution_count": 20,
   "id": "075832cb",
   "metadata": {},
   "outputs": [],
   "source": [
    "data = data/16"
   ]
  },
  {
   "cell_type": "code",
   "execution_count": 21,
   "id": "fc4839c6",
   "metadata": {},
   "outputs": [
    {
     "data": {
      "text/plain": [
       "0.0"
      ]
     },
     "execution_count": 21,
     "metadata": {},
     "output_type": "execute_result"
    }
   ],
   "source": [
    "data.min()"
   ]
  },
  {
   "cell_type": "code",
   "execution_count": 22,
   "id": "db795c66",
   "metadata": {},
   "outputs": [
    {
     "data": {
      "text/plain": [
       "1.0"
      ]
     },
     "execution_count": 22,
     "metadata": {},
     "output_type": "execute_result"
    }
   ],
   "source": [
    "data.max()"
   ]
  },
  {
   "cell_type": "code",
   "execution_count": 23,
   "id": "31353752",
   "metadata": {},
   "outputs": [
    {
     "data": {
      "text/plain": [
       "array([0.    , 0.    , 0.3125, 0.8125, 0.5625, 0.0625, 0.    , 0.    ,\n",
       "       0.    , 0.    , 0.8125, 0.9375, 0.625 , 0.9375, 0.3125, 0.    ,\n",
       "       0.    , 0.1875, 0.9375, 0.125 , 0.    , 0.6875, 0.5   , 0.    ,\n",
       "       0.    , 0.25  , 0.75  , 0.    , 0.    , 0.5   , 0.5   , 0.    ,\n",
       "       0.    , 0.3125, 0.5   , 0.    , 0.    , 0.5625, 0.5   , 0.    ,\n",
       "       0.    , 0.25  , 0.6875, 0.    , 0.0625, 0.75  , 0.4375, 0.    ,\n",
       "       0.    , 0.125 , 0.875 , 0.3125, 0.625 , 0.75  , 0.    , 0.    ,\n",
       "       0.    , 0.    , 0.375 , 0.8125, 0.625 , 0.    , 0.    , 0.    ])"
      ]
     },
     "execution_count": 23,
     "metadata": {},
     "output_type": "execute_result"
    }
   ],
   "source": [
    "data[0]"
   ]
  },
  {
   "cell_type": "markdown",
   "id": "38b683b2",
   "metadata": {},
   "source": [
    "**Train Test Split Data**"
   ]
  },
  {
   "cell_type": "code",
   "execution_count": 24,
   "id": "a7ec15e0",
   "metadata": {},
   "outputs": [],
   "source": [
    "from sklearn.model_selection import train_test_split"
   ]
  },
  {
   "cell_type": "code",
   "execution_count": 25,
   "id": "dd5e13d5",
   "metadata": {},
   "outputs": [],
   "source": [
    "X_train, X_test, y_train, y_test = train_test_split(data, df.target, test_size=0.3)"
   ]
  },
  {
   "cell_type": "code",
   "execution_count": 26,
   "id": "9e604789",
   "metadata": {},
   "outputs": [
    {
     "data": {
      "text/plain": [
       "((1257, 64), (540, 64), (1257,), (540,))"
      ]
     },
     "execution_count": 26,
     "metadata": {},
     "output_type": "execute_result"
    }
   ],
   "source": [
    "X_train.shape, X_test.shape, y_train.shape, y_test.shape"
   ]
  },
  {
   "cell_type": "markdown",
   "id": "765ea160",
   "metadata": {},
   "source": [
    "**Random Forest Model**"
   ]
  },
  {
   "cell_type": "code",
   "execution_count": 27,
   "id": "94359e1f",
   "metadata": {},
   "outputs": [],
   "source": [
    "from sklearn.ensemble import RandomForestClassifier"
   ]
  },
  {
   "cell_type": "code",
   "execution_count": 28,
   "id": "ca3566d2",
   "metadata": {},
   "outputs": [],
   "source": [
    "rf = RandomForestClassifier()"
   ]
  },
  {
   "cell_type": "code",
   "execution_count": 29,
   "id": "8b43deb4",
   "metadata": {},
   "outputs": [
    {
     "data": {
      "text/plain": [
       "RandomForestClassifier()"
      ]
     },
     "execution_count": 29,
     "metadata": {},
     "output_type": "execute_result"
    }
   ],
   "source": [
    "rf.fit(X_train, y_train)"
   ]
  },
  {
   "cell_type": "markdown",
   "id": "a1212cbc",
   "metadata": {},
   "source": [
    "**Predict Test Data**"
   ]
  },
  {
   "cell_type": "code",
   "execution_count": 30,
   "id": "6e8e81a0",
   "metadata": {},
   "outputs": [],
   "source": [
    "y_pred = rf.predict(X_test)"
   ]
  },
  {
   "cell_type": "code",
   "execution_count": 31,
   "id": "ccf31aa4",
   "metadata": {},
   "outputs": [
    {
     "data": {
      "text/plain": [
       "array([7, 5, 2, 6, 3, 7, 9, 7, 5, 5, 0, 3, 9, 1, 6, 9, 6, 4, 7, 9, 2, 1,\n",
       "       0, 4, 1, 6, 4, 9, 2, 8, 1, 4, 6, 6, 7, 9, 8, 7, 7, 3, 7, 2, 9, 8,\n",
       "       8, 0, 7, 6, 4, 7, 5, 0, 5, 9, 3, 0, 1, 9, 4, 6, 5, 2, 9, 2, 6, 6,\n",
       "       2, 3, 2, 2, 8, 5, 8, 9, 8, 9, 1, 3, 7, 0, 9, 9, 0, 8, 7, 1, 7, 2,\n",
       "       1, 4, 9, 5, 6, 9, 8, 7, 1, 6, 0, 4, 2, 2, 3, 4, 4, 6, 6, 6, 1, 7,\n",
       "       2, 1, 9, 8, 6, 5, 0, 5, 6, 5, 4, 0, 6, 0, 5, 8, 3, 1, 5, 3, 1, 4,\n",
       "       2, 5, 5, 0, 3, 8, 7, 2, 0, 2, 1, 8, 4, 3, 7, 4, 0, 7, 4, 2, 5, 4,\n",
       "       6, 8, 3, 3, 1, 2, 2, 4, 4, 4, 8, 7, 4, 0, 2, 4, 2, 3, 2, 1, 1, 9,\n",
       "       3, 5, 2, 9, 0, 6, 0, 0, 7, 7, 0, 6, 5, 5, 3, 3, 3, 2, 2, 4, 1, 6,\n",
       "       3, 5, 7, 4, 8, 9, 5, 0, 8, 9, 7, 2, 2, 0, 7, 0, 2, 5, 9, 5, 8, 7,\n",
       "       6, 1, 6, 9, 1, 8, 3, 4, 8, 0, 5, 5, 1, 1, 7, 6, 9, 2, 7, 1, 8, 0,\n",
       "       9, 2, 3, 1, 8, 0, 5, 0, 4, 5, 5, 5, 6, 3, 0, 8, 4, 1, 9, 3, 3, 3,\n",
       "       7, 7, 8, 4, 6, 6, 7, 8, 0, 9, 9, 5, 7, 6, 4, 5, 1, 0, 5, 8, 7, 5,\n",
       "       8, 0, 6, 0, 0, 0, 8, 6, 8, 7, 5, 6, 6, 6, 5, 2, 5, 5, 2, 4, 4, 4,\n",
       "       9, 5, 0, 4, 0, 6, 3, 9, 7, 4, 3, 3, 6, 1, 7, 2, 1, 5, 0, 0, 4, 0,\n",
       "       3, 0, 3, 3, 3, 3, 8, 1, 2, 6, 6, 9, 4, 8, 4, 7, 9, 9, 8, 5, 7, 7,\n",
       "       2, 0, 9, 6, 7, 0, 1, 4, 2, 2, 0, 5, 0, 3, 6, 5, 2, 7, 9, 0, 8, 7,\n",
       "       4, 7, 1, 8, 9, 2, 2, 5, 4, 9, 4, 2, 9, 2, 5, 1, 0, 8, 0, 4, 1, 0,\n",
       "       0, 0, 4, 1, 4, 8, 0, 2, 1, 5, 6, 4, 5, 2, 1, 5, 9, 1, 6, 3, 1, 8,\n",
       "       6, 6, 8, 3, 7, 4, 2, 5, 3, 8, 4, 7, 2, 2, 1, 9, 8, 1, 6, 7, 2, 7,\n",
       "       6, 9, 8, 0, 5, 1, 9, 3, 5, 8, 0, 8, 8, 5, 0, 2, 7, 3, 2, 7, 3, 1,\n",
       "       7, 1, 3, 1, 3, 5, 0, 5, 1, 2, 2, 9, 3, 9, 2, 3, 0, 8, 6, 0, 3, 1,\n",
       "       3, 1, 5, 5, 3, 4, 4, 0, 0, 4, 6, 4, 3, 7, 3, 5, 4, 0, 2, 5, 1, 7,\n",
       "       4, 3, 4, 9, 6, 0, 9, 0, 2, 2, 6, 5, 8, 8, 9, 0, 1, 8, 6, 7, 4, 1,\n",
       "       3, 8, 2, 8, 5, 6, 8, 8, 5, 9, 0, 5])"
      ]
     },
     "execution_count": 31,
     "metadata": {},
     "output_type": "execute_result"
    }
   ],
   "source": [
    "y_pred"
   ]
  },
  {
   "cell_type": "markdown",
   "id": "11ddc9d9",
   "metadata": {},
   "source": [
    "**Model Accuracy**"
   ]
  },
  {
   "cell_type": "code",
   "execution_count": 32,
   "id": "7fe9e4e8",
   "metadata": {},
   "outputs": [],
   "source": [
    "from sklearn.metrics import confusion_matrix, classification_report"
   ]
  },
  {
   "cell_type": "code",
   "execution_count": 33,
   "id": "80924355",
   "metadata": {},
   "outputs": [
    {
     "data": {
      "text/plain": [
       "array([[62,  0,  0,  0,  1,  0,  0,  0,  0,  0],\n",
       "       [ 0, 47,  0,  0,  0,  0,  0,  0,  0,  0],\n",
       "       [ 1,  0, 57,  0,  0,  0,  0,  0,  0,  0],\n",
       "       [ 0,  0,  0, 51,  0,  0,  0,  1,  0,  0],\n",
       "       [ 0,  0,  0,  0, 51,  0,  0,  1,  0,  0],\n",
       "       [ 0,  0,  0,  0,  1, 59,  0,  0,  0,  0],\n",
       "       [ 0,  0,  0,  0,  0,  0, 52,  0,  1,  0],\n",
       "       [ 0,  0,  0,  0,  1,  0,  0, 48,  0,  0],\n",
       "       [ 0,  3,  0,  0,  0,  1,  0,  0, 49,  0],\n",
       "       [ 0,  0,  0,  0,  0,  1,  0,  2,  2, 48]], dtype=int64)"
      ]
     },
     "execution_count": 33,
     "metadata": {},
     "output_type": "execute_result"
    }
   ],
   "source": [
    "confusion_matrix(y_test,  y_pred)"
   ]
  },
  {
   "cell_type": "code",
   "execution_count": 34,
   "id": "cdc36745",
   "metadata": {},
   "outputs": [
    {
     "name": "stdout",
     "output_type": "stream",
     "text": [
      "              precision    recall  f1-score   support\n",
      "\n",
      "           0       0.98      0.98      0.98        63\n",
      "           1       0.94      1.00      0.97        47\n",
      "           2       1.00      0.98      0.99        58\n",
      "           3       1.00      0.98      0.99        52\n",
      "           4       0.94      0.98      0.96        52\n",
      "           5       0.97      0.98      0.98        60\n",
      "           6       1.00      0.98      0.99        53\n",
      "           7       0.92      0.98      0.95        49\n",
      "           8       0.94      0.92      0.93        53\n",
      "           9       1.00      0.91      0.95        53\n",
      "\n",
      "    accuracy                           0.97       540\n",
      "   macro avg       0.97      0.97      0.97       540\n",
      "weighted avg       0.97      0.97      0.97       540\n",
      "\n"
     ]
    }
   ],
   "source": [
    "print(classification_report(y_test, y_pred))"
   ]
  },
  {
   "cell_type": "code",
   "execution_count": null,
   "id": "203e5103",
   "metadata": {},
   "outputs": [],
   "source": []
  }
 ],
 "metadata": {
  "kernelspec": {
   "display_name": "Python 3 (ipykernel)",
   "language": "python",
   "name": "python3"
  },
  "language_info": {
   "codemirror_mode": {
    "name": "ipython",
    "version": 3
   },
   "file_extension": ".py",
   "mimetype": "text/x-python",
   "name": "python",
   "nbconvert_exporter": "python",
   "pygments_lexer": "ipython3",
   "version": "3.9.13"
  }
 },
 "nbformat": 4,
 "nbformat_minor": 5
}
